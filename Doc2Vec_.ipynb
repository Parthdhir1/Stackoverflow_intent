{
  "nbformat": 4,
  "nbformat_minor": 0,
  "metadata": {
    "colab": {
      "name": "Doc2Vec .ipynb",
      "provenance": [],
      "collapsed_sections": [],
      "toc_visible": true,
      "machine_shape": "hm"
    },
    "kernelspec": {
      "name": "python3",
      "display_name": "Python 3"
    },
    "accelerator": "GPU"
  },
  "cells": [
    {
      "cell_type": "code",
      "metadata": {
        "id": "nQZV6DjCGxsz",
        "colab_type": "code",
        "colab": {
          "base_uri": "https://localhost:8080/",
          "height": 71
        },
        "outputId": "eb26166e-1546-401d-8378-d18f42bed38f"
      },
      "source": [
        "import numpy as np\n",
        "import pandas as pd\n",
        "import matplotlib.pyplot as plt\n",
        "import seaborn as sns\n",
        "import re"
      ],
      "execution_count": 2,
      "outputs": [
        {
          "output_type": "stream",
          "text": [
            "/usr/local/lib/python3.6/dist-packages/statsmodels/tools/_testing.py:19: FutureWarning: pandas.util.testing is deprecated. Use the functions in the public API at pandas.testing instead.\n",
            "  import pandas.util.testing as tm\n"
          ],
          "name": "stderr"
        }
      ]
    },
    {
      "cell_type": "code",
      "metadata": {
        "id": "w3SBNU0_HGpP",
        "colab_type": "code",
        "outputId": "2c64db6c-3f07-435a-ff11-a7bd6a624923",
        "colab": {
          "base_uri": "https://localhost:8080/",
          "height": 34
        }
      },
      "source": [
        "pip install beautifulsoup4\n"
      ],
      "execution_count": 26,
      "outputs": [
        {
          "output_type": "stream",
          "text": [
            "Requirement already satisfied: beautifulsoup4 in /usr/local/lib/python3.6/dist-packages (4.6.3)\n"
          ],
          "name": "stdout"
        }
      ]
    },
    {
      "cell_type": "code",
      "metadata": {
        "id": "FRIQ8cQeS04j",
        "colab_type": "code",
        "colab": {}
      },
      "source": [
        "from bs4 import BeautifulSoup\n",
        "import nltk\n",
        "from nltk.corpus import stopwords\n",
        "from  nltk.stem import SnowballStemmer\n",
        "import gensim\n",
        "from gensim.models import Word2Vec\n",
        "from gensim.utils import simple_preprocess\n",
        "from gensim.models import FastText\n",
        "from gensim.models import TfidfModel\n",
        "from gensim.corpora import Dictionary\n",
        "from sklearn.neighbors import NearestNeighbors\n"
      ],
      "execution_count": 0,
      "outputs": []
    },
    {
      "cell_type": "code",
      "metadata": {
        "id": "5433hLmCTEoq",
        "colab_type": "code",
        "outputId": "588300c2-fc9c-4a8c-bd3a-6f5132036592",
        "colab": {
          "base_uri": "https://localhost:8080/",
          "height": 200
        }
      },
      "source": [
        "df_ques= pd.read_csv('/content/drive/My Drive/Projects/pythonstalkoverflow/Questions.csv',encoding = \"ISO-8859-1\", nrows=30000,usecols=['Id','Title','Body'])\n",
        "\n",
        "df_ques.head()"
      ],
      "execution_count": 4,
      "outputs": [
        {
          "output_type": "execute_result",
          "data": {
            "text/html": [
              "<div>\n",
              "<style scoped>\n",
              "    .dataframe tbody tr th:only-of-type {\n",
              "        vertical-align: middle;\n",
              "    }\n",
              "\n",
              "    .dataframe tbody tr th {\n",
              "        vertical-align: top;\n",
              "    }\n",
              "\n",
              "    .dataframe thead th {\n",
              "        text-align: right;\n",
              "    }\n",
              "</style>\n",
              "<table border=\"1\" class=\"dataframe\">\n",
              "  <thead>\n",
              "    <tr style=\"text-align: right;\">\n",
              "      <th></th>\n",
              "      <th>Id</th>\n",
              "      <th>Title</th>\n",
              "      <th>Body</th>\n",
              "    </tr>\n",
              "  </thead>\n",
              "  <tbody>\n",
              "    <tr>\n",
              "      <th>0</th>\n",
              "      <td>469</td>\n",
              "      <td>How can I find the full path to a font from it...</td>\n",
              "      <td>&lt;p&gt;I am using the Photoshop's javascript API t...</td>\n",
              "    </tr>\n",
              "    <tr>\n",
              "      <th>1</th>\n",
              "      <td>502</td>\n",
              "      <td>Get a preview JPEG of a PDF on Windows?</td>\n",
              "      <td>&lt;p&gt;I have a cross-platform (Python) applicatio...</td>\n",
              "    </tr>\n",
              "    <tr>\n",
              "      <th>2</th>\n",
              "      <td>535</td>\n",
              "      <td>Continuous Integration System for a Python Cod...</td>\n",
              "      <td>&lt;p&gt;I'm starting work on a hobby project with a...</td>\n",
              "    </tr>\n",
              "    <tr>\n",
              "      <th>3</th>\n",
              "      <td>594</td>\n",
              "      <td>cx_Oracle: How do I iterate over a result set?</td>\n",
              "      <td>&lt;p&gt;There are several ways to iterate over a re...</td>\n",
              "    </tr>\n",
              "    <tr>\n",
              "      <th>4</th>\n",
              "      <td>683</td>\n",
              "      <td>Using 'in' to match an attribute of Python obj...</td>\n",
              "      <td>&lt;p&gt;I don't remember whether I was dreaming or ...</td>\n",
              "    </tr>\n",
              "  </tbody>\n",
              "</table>\n",
              "</div>"
            ],
            "text/plain": [
              "    Id  ...                                               Body\n",
              "0  469  ...  <p>I am using the Photoshop's javascript API t...\n",
              "1  502  ...  <p>I have a cross-platform (Python) applicatio...\n",
              "2  535  ...  <p>I'm starting work on a hobby project with a...\n",
              "3  594  ...  <p>There are several ways to iterate over a re...\n",
              "4  683  ...  <p>I don't remember whether I was dreaming or ...\n",
              "\n",
              "[5 rows x 3 columns]"
            ]
          },
          "metadata": {
            "tags": []
          },
          "execution_count": 4
        }
      ]
    },
    {
      "cell_type": "code",
      "metadata": {
        "id": "btDIGAEgTkvY",
        "colab_type": "code",
        "outputId": "eaa8db96-edda-4100-c5dc-e66db94e45aa",
        "colab": {
          "base_uri": "https://localhost:8080/",
          "height": 310
        }
      },
      "source": [
        "print('Question1:' ,df_ques.iloc[0,2])\n",
        "print('Question2:',df_ques.iloc[1,2])"
      ],
      "execution_count": 5,
      "outputs": [
        {
          "output_type": "stream",
          "text": [
            "Question1: <p>I am using the Photoshop's javascript API to find the fonts in a given PSD.</p>\n",
            "\n",
            "<p>Given a font name returned by the API, I want to find the actual physical font file that that font name corresponds to on the disc.</p>\n",
            "\n",
            "<p>This is all happening in a python program running on OSX so I guess I'm looking for one of:</p>\n",
            "\n",
            "<ul>\n",
            "<li>Some Photoshop javascript</li>\n",
            "<li>A Python function</li>\n",
            "<li>An OSX API that I can call from python</li>\n",
            "</ul>\n",
            "\n",
            "Question2: <p>I have a cross-platform (Python) application which needs to generate a JPEG preview of the first page of a PDF.</p>\n",
            "\n",
            "<p>On the Mac I am spawning <a href=\"http://developer.apple.com/documentation/Darwin/Reference/ManPages/man1/sips.1.html\">sips</a>.  Is there something similarly simple I can do on Windows?</p>\n",
            "\n"
          ],
          "name": "stdout"
        }
      ]
    },
    {
      "cell_type": "markdown",
      "metadata": {
        "id": "amJd3XUlWfEO",
        "colab_type": "text"
      },
      "source": [
        "##### **As We can see some of the questions are quite long and some are just 1 line. There are alot of cleaning stuff that needs to be done.** "
      ]
    },
    {
      "cell_type": "markdown",
      "metadata": {
        "id": "5KLqK8KKW0Od",
        "colab_type": "text"
      },
      "source": [
        "### **Pre-Processing**"
      ]
    },
    {
      "cell_type": "code",
      "metadata": {
        "id": "C7-tK5HlW6qR",
        "colab_type": "code",
        "colab": {}
      },
      "source": [
        "###using beautifulsoup for clearning the HTML text\n",
        "\n",
        "#Using beautiful soup to grab text inside 'p' tags and concatenate it\n",
        "def get_question(html_text):\n",
        "  soup = BeautifulSoup(html_text, 'lxml')\n",
        "  question = ' '.join([t.text for t in soup.find_all('p')]) #concatenating all p tags\n",
        "  return question\n",
        "\n",
        "#Transforming questions to list for ease of processing\n",
        "df_ques['Body'] = df_ques['Body'].apply(get_question)"
      ],
      "execution_count": 0,
      "outputs": []
    },
    {
      "cell_type": "code",
      "metadata": {
        "id": "RvoL6tKrgave",
        "colab_type": "code",
        "outputId": "a13ff5a5-3daf-41ee-8329-e1af2a71fe55",
        "colab": {
          "base_uri": "https://localhost:8080/",
          "height": 119
        }
      },
      "source": [
        "\n",
        "print(' top 5 Question:',df_ques['Body'].head())\n"
      ],
      "execution_count": 7,
      "outputs": [
        {
          "output_type": "stream",
          "text": [
            " top 5 Question: 0    I am using the Photoshop's javascript API to f...\n",
            "1    I have a cross-platform (Python) application w...\n",
            "2    I'm starting work on a hobby project with a py...\n",
            "3    There are several ways to iterate over a resul...\n",
            "4    I don't remember whether I was dreaming or not...\n",
            "Name: Body, dtype: object\n"
          ],
          "name": "stdout"
        }
      ]
    },
    {
      "cell_type": "code",
      "metadata": {
        "id": "MbcCIObRgcLy",
        "colab_type": "code",
        "outputId": "480df648-a4c6-446c-ff5e-4e26ef5aaf2e",
        "colab": {
          "base_uri": "https://localhost:8080/",
          "height": 51
        }
      },
      "source": [
        "##toekinzing\n",
        "nltk.download('stopwords')\n",
        "TEXT_CLEANING_RE = \"@\\S+|https?:\\S+|http?:\\S|[^A-Za-z0-9]+\"\n",
        "stop_words= stopwords.words('english')\n",
        "stemmer= SnowballStemmer('english')"
      ],
      "execution_count": 8,
      "outputs": [
        {
          "output_type": "stream",
          "text": [
            "[nltk_data] Downloading package stopwords to /root/nltk_data...\n",
            "[nltk_data]   Unzipping corpora/stopwords.zip.\n"
          ],
          "name": "stdout"
        }
      ]
    },
    {
      "cell_type": "code",
      "metadata": {
        "id": "m3y37jBtjUAh",
        "colab_type": "code",
        "colab": {}
      },
      "source": [
        "def preprocess(text, stem=False):\n",
        "    # Remove link,user and special characters\n",
        "    text = re.sub(TEXT_CLEANING_RE, ' ', str(text).lower()).strip()\n",
        "    tokens = []\n",
        "    for token in text.split():\n",
        "        if token not in stop_words:\n",
        "            if stem:\n",
        "                tokens.append(stemmer.stem(token))\n",
        "            else:\n",
        "                tokens.append(token)\n",
        "    return \" \".join(tokens)\n",
        "df_ques['Body'] = df_ques['Body'].apply(lambda x: preprocess(x))"
      ],
      "execution_count": 0,
      "outputs": []
    },
    {
      "cell_type": "code",
      "metadata": {
        "id": "hVJs9gepjycv",
        "colab_type": "code",
        "outputId": "d954add5-d2b9-4fa5-b647-7233e616711c",
        "colab": {
          "base_uri": "https://localhost:8080/",
          "height": 119
        }
      },
      "source": [
        "df_ques['Body'].head()"
      ],
      "execution_count": 10,
      "outputs": [
        {
          "output_type": "execute_result",
          "data": {
            "text/plain": [
              "0    using photoshop javascript api find fonts give...\n",
              "1    cross platform python application needs genera...\n",
              "2    starting work hobby project python codebase wo...\n",
              "3             several ways iterate result set tradeoff\n",
              "4    remember whether dreaming seem recall function...\n",
              "Name: Body, dtype: object"
            ]
          },
          "metadata": {
            "tags": []
          },
          "execution_count": 10
        }
      ]
    },
    {
      "cell_type": "code",
      "metadata": {
        "id": "jdnt-74xj9Xd",
        "colab_type": "code",
        "colab": {}
      },
      "source": [
        "#len(question_list)\n",
        "#[' '.join(question) for question in df_ques['Body']]"
      ],
      "execution_count": 0,
      "outputs": []
    },
    {
      "cell_type": "code",
      "metadata": {
        "id": "QvEZwnSg7fdp",
        "colab_type": "code",
        "colab": {}
      },
      "source": [
        "documents = [_text.split() for _text in df_ques.Body]\n"
      ],
      "execution_count": 0,
      "outputs": []
    },
    {
      "cell_type": "code",
      "metadata": {
        "id": "8tEAQjtGUFc6",
        "colab_type": "code",
        "colab": {
          "base_uri": "https://localhost:8080/",
          "height": 34
        },
        "outputId": "54d533a6-f349-49a6-bbd7-0149a7289389"
      },
      "source": [
        "len(documents)"
      ],
      "execution_count": 12,
      "outputs": [
        {
          "output_type": "execute_result",
          "data": {
            "text/plain": [
              "30000"
            ]
          },
          "metadata": {
            "tags": []
          },
          "execution_count": 12
        }
      ]
    },
    {
      "cell_type": "markdown",
      "metadata": {
        "id": "rqeSlOhm3lT_",
        "colab_type": "text"
      },
      "source": [
        "### **In this notebook, I will be comparing Word2Vec and FastText**"
      ]
    },
    {
      "cell_type": "markdown",
      "metadata": {
        "id": "dwbeuYi33wSk",
        "colab_type": "text"
      },
      "source": [
        "#### **Word2Vec**"
      ]
    },
    {
      "cell_type": "code",
      "metadata": {
        "id": "O9ZpzAIV3zmO",
        "colab_type": "code",
        "colab": {
          "base_uri": "https://localhost:8080/",
          "height": 34
        },
        "outputId": "4c1ac8cf-a4bb-44a2-9c19-abebc7d68d00"
      },
      "source": [
        "n = 50\n",
        "model = Word2Vec(documents, size = n, window = 8)\n",
        "\n",
        "#Training model using questions corpora\n",
        "model.train(documents, total_examples=len(documents), epochs=10)\n"
      ],
      "execution_count": 13,
      "outputs": [
        {
          "output_type": "execute_result",
          "data": {
            "text/plain": [
              "(12221933, 13741490)"
            ]
          },
          "metadata": {
            "tags": []
          },
          "execution_count": 13
        }
      ]
    },
    {
      "cell_type": "markdown",
      "metadata": {
        "id": "TRnT38Wh5BOg",
        "colab_type": "text"
      },
      "source": [
        "#### Let's Inspect the words by checking the most similar words in the corpus"
      ]
    },
    {
      "cell_type": "code",
      "metadata": {
        "id": "yYx_iht35jIc",
        "colab_type": "code",
        "colab": {
          "base_uri": "https://localhost:8080/",
          "height": 242
        },
        "outputId": "5f886413-a625-4faf-e575-e0d60773a59c"
      },
      "source": [
        "#Let's see how it worked\n",
        "word_vectors = model.wv\n",
        "word_vectors.most_similar(positive='database')"
      ],
      "execution_count": 19,
      "outputs": [
        {
          "output_type": "stream",
          "text": [
            "/usr/local/lib/python3.6/dist-packages/gensim/matutils.py:737: FutureWarning: Conversion of the second argument of issubdtype from `int` to `np.signedinteger` is deprecated. In future, it will be treated as `np.int64 == np.dtype(int).type`.\n",
            "  if np.issubdtype(vec.dtype, np.int):\n"
          ],
          "name": "stderr"
        },
        {
          "output_type": "execute_result",
          "data": {
            "text/plain": [
              "[('db', 0.8869057297706604),\n",
              " ('sqlite', 0.7295145988464355),\n",
              " ('tables', 0.7214229106903076),\n",
              " ('postgres', 0.7214202880859375),\n",
              " ('databases', 0.6955385804176331),\n",
              " ('querying', 0.6863582134246826),\n",
              " ('postgresql', 0.683992862701416),\n",
              " ('table', 0.6683526039123535),\n",
              " ('mysql', 0.6638216972351074),\n",
              " ('schema', 0.635815441608429)]"
            ]
          },
          "metadata": {
            "tags": []
          },
          "execution_count": 19
        }
      ]
    },
    {
      "cell_type": "markdown",
      "metadata": {
        "id": "BFyAUP4mLIwf",
        "colab_type": "text"
      },
      "source": [
        "## **We Can see Word2vec worked good on this corpus. Now let's see how FastText can work on this.**"
      ]
    },
    {
      "cell_type": "markdown",
      "metadata": {
        "id": "HKBV_4tkNMFx",
        "colab_type": "text"
      },
      "source": [
        "**The main difference of FastText from Word2Vec is that it uses sub-word information (i.e character n-grams). While it brings additional utility to the embeddings, it also considerably slows down the process.**"
      ]
    },
    {
      "cell_type": "code",
      "metadata": {
        "id": "wN7XX4v65rna",
        "colab_type": "code",
        "colab": {}
      },
      "source": [
        "ft_model = FastText(documents, size=n, window=8, min_count=5, workers=2,sg=1)"
      ],
      "execution_count": 0,
      "outputs": []
    },
    {
      "cell_type": "code",
      "metadata": {
        "id": "dPMqFoi36jZK",
        "colab_type": "code",
        "colab": {
          "base_uri": "https://localhost:8080/",
          "height": 88
        },
        "outputId": "ffce9159-4531-4e28-fa95-17acaadb5c4b"
      },
      "source": [
        "print('Words similar to \"array\" are: ', ft_model.wv.most_similar('array'))"
      ],
      "execution_count": 17,
      "outputs": [
        {
          "output_type": "stream",
          "text": [
            "Words similar to \"array\" are:  [('arrays', 0.925803005695343), ('ndarray', 0.9246947765350342), ('asarray', 0.9188598394393921), ('recarray', 0.9007734656333923), ('arraylist', 0.8880296945571899), ('dimension', 0.8681841492652893), ('bitarray', 0.8564947843551636), ('dimensional', 0.8557138442993164), ('multidimensional', 0.8469366431236267), ('1d', 0.8217758536338806)]\n"
          ],
          "name": "stdout"
        },
        {
          "output_type": "stream",
          "text": [
            "/usr/local/lib/python3.6/dist-packages/gensim/matutils.py:737: FutureWarning: Conversion of the second argument of issubdtype from `int` to `np.signedinteger` is deprecated. In future, it will be treated as `np.int64 == np.dtype(int).type`.\n",
            "  if np.issubdtype(vec.dtype, np.int):\n"
          ],
          "name": "stderr"
        }
      ]
    },
    {
      "cell_type": "code",
      "metadata": {
        "id": "P4Nmg02OV7kM",
        "colab_type": "code",
        "colab": {
          "base_uri": "https://localhost:8080/",
          "height": 88
        },
        "outputId": "db4348c3-b727-4014-abc0-0ea93cbf3f92"
      },
      "source": [
        "print('Words similar to \"database\" are: ', ft_model.wv.most_similar('database'))"
      ],
      "execution_count": 18,
      "outputs": [
        {
          "output_type": "stream",
          "text": [
            "Words similar to \"database\" are:  [('databases', 0.9340032339096069), ('db', 0.8906856775283813), ('postgres', 0.8789547681808472), ('dbs', 0.8717832565307617), ('postgresql', 0.8495760560035706), ('sqlite', 0.8375387191772461), ('databaseconnection', 0.8281651735305786), ('mssql', 0.8183775544166565), ('sqlobject', 0.815682590007782), ('zodb', 0.8081094026565552)]\n"
          ],
          "name": "stdout"
        },
        {
          "output_type": "stream",
          "text": [
            "/usr/local/lib/python3.6/dist-packages/gensim/matutils.py:737: FutureWarning: Conversion of the second argument of issubdtype from `int` to `np.signedinteger` is deprecated. In future, it will be treated as `np.int64 == np.dtype(int).type`.\n",
            "  if np.issubdtype(vec.dtype, np.int):\n"
          ],
          "name": "stderr"
        }
      ]
    },
    {
      "cell_type": "markdown",
      "metadata": {
        "id": "_cQZJtvOLsPV",
        "colab_type": "text"
      },
      "source": [
        "#### **We have noticed that Skip gram worked better with Fasttext**\n",
        "\n",
        "Here we can see that FastText has produced different vector embeddings. 'Array' now is close to the words which also contain the ngram 'array' and 'database' is close to different ngrams of the word database plus some variations of database tools.\n",
        "\n",
        "We can clearly see the difference between embbedding methods - Word2Vec puts the words which occur in the same context closer in the vector space, while FastText does the same but also allows to incorporate less frequent words into this vector space. Use of n-grams really does play a key role in word embbedings and hence, I will proceed with using FastText embbeddings as a basis for sentence embeddings."
      ]
    },
    {
      "cell_type": "code",
      "metadata": {
        "id": "3MY48WhmLq9L",
        "colab_type": "code",
        "colab": {}
      },
      "source": [
        ""
      ],
      "execution_count": 0,
      "outputs": []
    },
    {
      "cell_type": "code",
      "metadata": {
        "id": "iBbMbLT8Huot",
        "colab_type": "code",
        "colab": {}
      },
      "source": [
        "from gensim.models.doc2vec import Doc2Vec, TaggedDocument\n"
      ],
      "execution_count": 0,
      "outputs": []
    },
    {
      "cell_type": "code",
      "metadata": {
        "id": "K6IuZHOpTjfN",
        "colab_type": "code",
        "colab": {}
      },
      "source": [
        "documents1 = [TaggedDocument(doc, [i]) for i, doc in enumerate(documents)]\n",
        "model = Doc2Vec(documents1, vector_size=n, window=8, min_count=5, workers=2, dm = 1, epochs=20)"
      ],
      "execution_count": 0,
      "outputs": []
    },
    {
      "cell_type": "code",
      "metadata": {
        "id": "wIbOX67rUZNb",
        "colab_type": "code",
        "colab": {
          "base_uri": "https://localhost:8080/",
          "height": 139
        },
        "outputId": "34fd8800-66b4-44f7-ac9b-2a26c32d93d9"
      },
      "source": [
        "print(df_ques.Body[42], ' \\nis similar to \\n')\n",
        "print([df_ques.Body[similar[0]] for similar in model.docvecs.most_similar(42)])"
      ],
      "execution_count": 43,
      "outputs": [
        {
          "output_type": "stream",
          "text": [
            "best way sanitise user input python based web application single function remove html characters necessary characters combinations prevent xss sql injection attack  \n",
            "is similar to \n",
            "\n",
            "['cgi escape seems like one possible choice work well something considered better', 'want use sqlite memory database testing postgresql development production server sql syntax dbs ex sqlite autoincrement postgresql serial easy port sql script sqlite postgresql solutions want use standard sql go generating primary key databases', 'script loops series four less characters strings example able implement nested loops like sort loop nesting bad thing would better way accomplishing', 'simply delete directory python installation lingering files must delete', 'code getting error conditional wrong', 'python function sanitisation input parameters caters arguments passed none rather empty strings easier concise way loop round function parameters apply expression actual function nine parameters', 'question concerns two implementations counters intended scale without sharding tradeoff might count situations without actually running performance tests', 'python datetime datetime object best way subtract one day', 'want search matching strings mysql table search string correct sentence part sentence one help thanks advance nimmy', 'trying create simple unique username function use formencode schema function problem query gets generated never actually hits database user variable simply contains generated query query results go fixing thanks much']\n"
          ],
          "name": "stdout"
        },
        {
          "output_type": "stream",
          "text": [
            "/usr/local/lib/python3.6/dist-packages/gensim/matutils.py:737: FutureWarning: Conversion of the second argument of issubdtype from `int` to `np.signedinteger` is deprecated. In future, it will be treated as `np.int64 == np.dtype(int).type`.\n",
            "  if np.issubdtype(vec.dtype, np.int):\n"
          ],
          "name": "stderr"
        }
      ]
    },
    {
      "cell_type": "code",
      "metadata": {
        "id": "iSB6kP2da71v",
        "colab_type": "code",
        "colab": {}
      },
      "source": [
        ""
      ],
      "execution_count": 0,
      "outputs": []
    },
    {
      "cell_type": "code",
      "metadata": {
        "id": "KUppQAvjdlHO",
        "colab_type": "code",
        "colab": {}
      },
      "source": [
        ""
      ],
      "execution_count": 0,
      "outputs": []
    },
    {
      "cell_type": "code",
      "metadata": {
        "id": "XgpfX0PWeaLt",
        "colab_type": "code",
        "colab": {}
      },
      "source": [
        ""
      ],
      "execution_count": 0,
      "outputs": []
    }
  ]
}